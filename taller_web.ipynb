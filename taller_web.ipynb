{
 "cells": [
  {
   "attachments": {},
   "cell_type": "markdown",
   "metadata": {},
   "source": [
    "10 min."
   ]
  },
  {
   "attachments": {},
   "cell_type": "markdown",
   "metadata": {},
   "source": [
    "## Que es el desarrollo web?\n",
    "\n",
    "El desarrollo web es el **proceso de creación y mantenimiento de sitios web**. Puede implicar una amplia gama de acciones, desde la codificación y el diseño hasta la gestión de contenidos y la administración del servidor web."
   ]
  },
  {
   "attachments": {},
   "cell_type": "markdown",
   "metadata": {},
   "source": [
    "## Que es una pagina web?\n",
    "\n",
    "Una **página web** consiste en una serie de códigos que los navegadores pueden leer. En base a la información que incluye este código, podrán mostrar la **página**\n",
    " de forma adecuada. El código le va diciendo al navegador qué partes son texto, qué partes son referencias, qué partes son imágenes."
   ]
  },
  {
   "cell_type": "markdown",
   "metadata": {},
   "source": [
    "Mostrar una pagina web de ejemplo https://www.bedow.se/"
   ]
  },
  {
   "attachments": {},
   "cell_type": "markdown",
   "metadata": {},
   "source": [
    "## Que es un navegador?\n",
    "\n",
    "Un navegador web es un programa que permite ver la información que contiene una página web. El navegador interpreta el código, HTML generalmente, en el que está escrita la página web y lo presenta en pantalla permitiendo al usuario interactuar con su contenido y navegar."
   ]
  },
  {
   "cell_type": "markdown",
   "metadata": {},
   "source": [
    "Buscar en el navegador web **Most used browser for developers**"
   ]
  },
  {
   "attachments": {},
   "cell_type": "markdown",
   "metadata": {},
   "source": [
    "## El modelo cliente - servidor\n",
    "\n",
    "Las aplicaciones web se construyen sobre dos componentes, una parte llamada cliente y otra parte llamada servidor, y se comunican cuando un cliente envia pedidos al servidor.\n",
    "\n",
    "\n",
    "- Podemos definir el cliente como la parte que vemos de la aplicacion (y podemos asociarlo al front end) y con la que podemos interactuar como usuarios para solicitar informacion, y la del servidor es la que almacena la informacion y recibe estas interacciones que hacemos para devolvernos la informacion que necesitamos (la cual guarda relacion con el trabajo del back end)"
   ]
  },
  {
   "cell_type": "markdown",
   "metadata": {},
   "source": [
    "Preparar meme de meseros"
   ]
  },
  {
   "attachments": {},
   "cell_type": "markdown",
   "metadata": {},
   "source": [
    "### Como se comunican el cliente y servidor?\n",
    "\n",
    "Para que estos clientes puedan comunicarse con los servidores web, es necesario que haya un lenguaje o protocolo común, con determinadas reglas sobre cómo debe ocurrir la comunicación. \n",
    "\n",
    "El protocolo utilizado para la comunicación web se llama HTTP, que significa **HyperText Transfer Protocol (protocolo de transferencia de hipertexto)**.\n",
    "\n",
    "** mostrar como se ve http en el navegador **\n",
    "\n",
    "Cualquier navegador (chrome o firefox, por ejemplo) usan HTTP para comunicarse con un servidor web cuando ingresamos una dirección en la barra de navegación, hacemos click en algún enlace de una página, enviamos la información de un formulario o cuando una página actualiza su información dinámica."
   ]
  },
  {
   "attachments": {},
   "cell_type": "markdown",
   "metadata": {},
   "source": [
    "Hasta el break"
   ]
  },
  {
   "attachments": {},
   "cell_type": "markdown",
   "metadata": {},
   "source": [
    "# Practica #1: Creacion de carpetas, activacion del entorno virtual e instalacion de librerias"
   ]
  },
  {
   "attachments": {},
   "cell_type": "markdown",
   "metadata": {},
   "source": [
    "# Creacion de carpeta y entorno virtual:"
   ]
  },
  {
   "attachments": {},
   "cell_type": "markdown",
   "metadata": {},
   "source": [
    "### 1. Crear una carpeta en su escritorio con el nombre taller-web\n",
    "### 2. Acceder a su carpeta desde Visual Studio Code\n",
    "### 3. Abrir la terminal de VScode para comenzar las instalaciones necesarias.\n",
    "\n",
    "Antes de empezar a instalar nuestras dependencias necesarias vamos a crear un entorno virtual."
   ]
  },
  {
   "attachments": {},
   "cell_type": "markdown",
   "metadata": {},
   "source": [
    "venv es un modulo\n",
    "Ahora se recomienda el uso de venv para crear entornos virtuales."
   ]
  },
  {
   "attachments": {},
   "cell_type": "markdown",
   "metadata": {},
   "source": [
    "### Para que nos sirve un entorno virtual?\n",
    "A veces, diferentes proyectos pueden requerir diferentes versiones de una misma herramientaas, lo que podría generar conflictos entre ellas. Por ejemplo, supongamos que tienes dos proyectos en tu máquina, uno que requiere la versión 1.0 de una herramienta y otro que necesita la versión 2.0. Si instalas ambas versiones en tu entorno global de Python, es probable que se produzcan conflictos y que uno de los proyectos no funcione correctamente."
   ]
  },
  {
   "attachments": {},
   "cell_type": "markdown",
   "metadata": {},
   "source": [
    "**Analogía en caso de que no haya quedado claro:** Imaginate que te mudas a un coqueto mono ambiente en Asunción, te mudas con roomies, les da calor y dicen:\n",
    "\n",
    "- “vamos a instalar un aire acondicionado”. - “dale”\n",
    "\n",
    "E instalan un aire acondicionado pero ninguno esta contento con la temperatura, no satisface las diferentes necesidades que tiene cada individuo. Entonces dicen:\n",
    "\n",
    "- “vamos a crear un entorno para cada uno y ahí instalas tu aire acondicionado y ajustas la temperatura que cubra tu necesidad”.\n",
    "\n",
    "Asi funcionan los entornos virtuales creas un entorno virtual, instalas las librerias que necesitas y usas la version que cubra las necesidades de tu proyecto."
   ]
  },
  {
   "attachments": {},
   "cell_type": "markdown",
   "metadata": {},
   "source": [
    "### Comandos para crear y activar un entorno virtual\n",
    "Mostrar la pagina de documentacion Flask Install\n",
    "https://flask.palletsprojects.com/en/2.3.x/installation/\n"
   ]
  },
  {
   "cell_type": "markdown",
   "metadata": {},
   "source": [
    "### Just in case comandos para crear y activar el entorno virtual\n",
    "\n",
    "Crear\n",
    "\n",
    "\n",
    "Linux y MacOs: python3 -m venv .venv\n",
    "\n",
    "\n",
    "Windows: py -3 -m venv .venv\n",
    "\n",
    "\n",
    "Activar\n",
    "\n",
    "Linux y MacOs: . .venv/bin/activate\n",
    "\n",
    "\n",
    "Windows: .venv\\Scripts\\activate\n",
    "\n"
   ]
  },
  {
   "attachments": {},
   "cell_type": "markdown",
   "metadata": {},
   "source": [
    "***Como sabemos que el entorno virtual esta activo?***\n",
    "\n",
    "Podemos verificarlo mirando en la esquina izquierda que esta el nombre del entorno virtual activo,\n",
    "En este caso seria así: `> (venv)`"
   ]
  },
  {
   "attachments": {},
   "cell_type": "markdown",
   "metadata": {},
   "source": [
    "Nota En Microsoft Windows, puede ser necesario habilitar el script Activate.ps1 estableciendo la política de ejecución para el usuario. Puedes hacer esto ejecutando el siguiente comando de PowerShell:\n",
    "PS C:> Set-ExecutionPolicy -ExecutionPolicy RemoteSigned -Scope CurrentUser\n",
    "\n",
    "See About Execution Policies for more information."
   ]
  },
  {
   "attachments": {},
   "cell_type": "markdown",
   "metadata": {},
   "source": [
    "break"
   ]
  },
  {
   "attachments": {},
   "cell_type": "markdown",
   "metadata": {},
   "source": [
    "10:30 - 10:50\n",
    "\n",
    "# Empezamos a instalar las librerias necesarias para el desarrollo web:"
   ]
  },
  {
   "attachments": {},
   "cell_type": "markdown",
   "metadata": {},
   "source": [
    "### Que es una libreria?\n",
    "es un conjunto de funciones y rutinas predefinidas que se pueden utilizar para simplificar el proceso de programación en lugar de tener que escribir todo desde cero."
   ]
  },
  {
   "attachments": {},
   "cell_type": "markdown",
   "metadata": {},
   "source": [
    "### Que es Flask?\n",
    "Es un framework escrito en Python, (Un framework nos proporciona un set de herramientas, un framework puede contener librerias), nos permite crear aplicaciones web rápidamente y con un mínimo número de líneas de código."
   ]
  },
  {
   "attachments": {},
   "cell_type": "markdown",
   "metadata": {},
   "source": [
    "La info a continuacion se puede obviar\n",
    "### Por que usamos Flask?\n",
    "\n",
    "- Incluye un servidor web de desarrollo\n",
    "- Compatible con Python3\n",
    "- Buen manejo de rutas\n",
    "- Open Source"
   ]
  },
  {
   "attachments": {},
   "cell_type": "markdown",
   "metadata": {},
   "source": [
    "# Instalacion de Flask\n",
    "Ir nuevamente a la documentacion de Flask \n",
    "\n",
    "### just in case\n",
    "\n",
    "pip install Flask"
   ]
  },
  {
   "attachments": {},
   "cell_type": "markdown",
   "metadata": {},
   "source": [
    "# Instalacion de requests\n",
    "pip install requests"
   ]
  },
  {
   "attachments": {},
   "cell_type": "markdown",
   "metadata": {},
   "source": [
    "10:30 - 10:50"
   ]
  },
  {
   "attachments": {},
   "cell_type": "markdown",
   "metadata": {},
   "source": [
    "# Practica #2: Creacion de rutas"
   ]
  },
  {
   "attachments": {},
   "cell_type": "markdown",
   "metadata": {},
   "source": [
    "1. Crear, dentro, el archivo tipo python llamado app.py"
   ]
  },
  {
   "cell_type": "code",
   "execution_count": 4,
   "metadata": {},
   "outputs": [],
   "source": [
    "#Empezamos importando la librería Flask\n",
    "\n",
    "from flask import Flask #Importa la librería Flask.\n",
    "\n",
    "app = Flask(__name__) #Crea la aplicación Flask.\n",
    "\n",
    "# Explicar ahora que es una ruta o endpoint\n",
    "\n",
    "@app.route(\"/\") #Crear ruta home\n",
    "def index(): #Función que devuelve una cadena de texto.\n",
    "    return \"Hello, World!\"  #Devuelve una cadena de texto."
   ]
  },
  {
   "attachments": {},
   "cell_type": "markdown",
   "metadata": {},
   "source": [
    "2. Correr la app\n",
    "\n",
    "\n",
    "To run the application, use **flask --app hello run**  command or **python -m flask**.\n",
    "\n",
    "if the file is named app.py or wsgi.py, you don’t have to use --app."
   ]
  },
  {
   "attachments": {},
   "cell_type": "markdown",
   "metadata": {},
   "source": [
    "### Address already in use ERROR\n",
    "If another program is already using port 5000, you’ll see an OSError when the server tries to start. It may have one of the following messages:\n",
    "\n",
    "OSError: [Errno 98] Address already in use\n",
    "\n",
    "OSError: [WinError 10013] An attempt was made to access a socket in a way forbidden by its access permissions\n",
    "\n",
    "Either identify and stop the other program, or use **flask run --port 5001** to pick a different port."
   ]
  },
  {
   "attachments": {},
   "cell_type": "markdown",
   "metadata": {},
   "source": [
    "### In Code\n",
    "The development server can also be started from Python with the Flask.run() method. This method takes arguments similar to the CLI options to control the server. The main difference from the CLI command is that the server will crash if there are errors when reloading. debug=True can be passed to enable debug mode.\n",
    "\n",
    "Place the call in a main block, otherwise it will interfere when trying to import and run the application with a production server later.\n",
    "\n",
    "if __name__ == \"__main__\":\n",
    "    app.run(debug=True)\n",
    "\n",
    "Para correr \n",
    "\n",
    "python app.py"
   ]
  },
  {
   "attachments": {},
   "cell_type": "markdown",
   "metadata": {},
   "source": [
    "3. Cambiar el hello, world por Hola, mundo!"
   ]
  },
  {
   "attachments": {},
   "cell_type": "markdown",
   "metadata": {},
   "source": [
    "## Debug Mode\n",
    "\n",
    "Cada vez que hagamos un cambio en nuestro código reiniciará el servidor y no tendremos que hacerlo manualmente para que los cambios se tengan en cuenta.\n",
    "\n",
    "flask --app hello run --debug"
   ]
  },
  {
   "attachments": {},
   "cell_type": "markdown",
   "metadata": {},
   "source": [
    "11:20 - Almuerzo"
   ]
  },
  {
   "attachments": {},
   "cell_type": "markdown",
   "metadata": {},
   "source": [
    "# Challenge 10 min\n",
    "\n",
    "En el archivo app.py creamos la ruta index y enviamos un string ej: (“Mi nombre es < nombre>”)"
   ]
  },
  {
   "cell_type": "code",
   "execution_count": null,
   "metadata": {},
   "outputs": [],
   "source": [
    "@app.route(\"/saludo\")\n",
    "def saludo():\n",
    "    return(\"Hola mi nombre es Achu\")"
   ]
  },
  {
   "attachments": {},
   "cell_type": "markdown",
   "metadata": {},
   "source": [
    "# Teoria de HTML\n",
    "\n",
    "Las etiquetas HTML son pequeños bloques de código, que indican al navegador como debe interpretar el contenido recogido entre dichas etiquetas. Por ejemplo, si queremos «pintar» un párrafo de texto, hay una etiqueta especifica para que el navegador interprete ese texto como un párrafo.\n",
    "Generalmente las etiquetas HTML están compuestas por una etiqueta de apertura, y una etiqueta de cierre.\n",
    "Aunque hay excepciones, como por ejemplo la etiqueta para cargar una imagen que son llamadas etiquetas huérfanas, ya que solo tienen etiqueta de apertura.\n",
    "\n",
    "1. Crear la carpeta templates y crear un archivo index.html dentro del directorio templates.\n",
    "2. Dentro del archivo html mostrar shortcut para DOCUMENT y usar un etiqueta parrafo para Renderizar el index con render_template → Hola mundo desde html \n",
    "\n",
    "Introducirles a render template y pedir que ahora en lugar de pasar un texto plano dentro de la ruta saludo, renderizen el archivo index.html con un saludo diferente:\n"
   ]
  },
  {
   "cell_type": "code",
   "execution_count": null,
   "metadata": {
    "vscode": {
     "languageId": "html"
    }
   },
   "outputs": [],
   "source": [
    "<p> Hola desde html, mi nombre es Achu </p>"
   ]
  },
  {
   "cell_type": "code",
   "execution_count": null,
   "metadata": {},
   "outputs": [],
   "source": [
    "@app.route(\"/saludo\")\n",
    "def saludo():\n",
    "    return render_template (\"index.html\")"
   ]
  },
  {
   "attachments": {},
   "cell_type": "markdown",
   "metadata": {},
   "source": [
    "# Practica #4: Introduccion a las etiquetas HTML y Jinja"
   ]
  },
  {
   "cell_type": "markdown",
   "metadata": {},
   "source": [
    "Ya que pudimos renderizar un parrafo, ahora les muestro como hacer una tarjetita "
   ]
  },
  {
   "cell_type": "code",
   "execution_count": null,
   "metadata": {
    "vscode": {
     "languageId": "html"
    }
   },
   "outputs": [],
   "source": [
    "<!DOCTYPE html>\n",
    "<html lang=\"en\">\n",
    "<head>\n",
    "    <meta charset=\"UTF-8\">\n",
    "    <meta name=\"viewport\" content=\"width=device-width, initial-scale=1.0\">\n",
    "    <title>Document</title>\n",
    "</head>\n",
    "<body>\n",
    "    <p> Hola desde html, mi nombre es Achu </p>\n",
    " <!-- Ej para 2do challenge -->\n",
    " <!-- Hacemos la tarjetita de un animal o personaje -->\n",
    "    <h1> hapi cat </h1>\n",
    "    <h2> hapi hapi hapi </h2>\n",
    "    \n",
    "    <img src=\"https://steamuserimages-a.akamaihd.net/ugc/2071133537172165896/EA0C3DCC21FC2DD65C5680CF411A7349F988D8BD/?imw=637&imh=358&ima=fit&impolicy=Letterbox&imcolor=%23000000&letterbox=true\" alt=\"hapi cat meme\" >\n",
    "    \n",
    "</body>\n",
    "</html>\n"
   ]
  },
  {
   "cell_type": "markdown",
   "metadata": {},
   "source": [
    "Antes del challenge hacer uns inspeccion de una pagina web para que vean que hay muchos otros tipos de etiquetas"
   ]
  },
  {
   "attachments": {},
   "cell_type": "markdown",
   "metadata": {},
   "source": [
    "# Challenge: Perrito fachero\n",
    "    ◦ Pedirles que hagan una tarjeta de un animal, personaje o cosa (? que tenga el nombre, especie y color. \n",
    "\n",
    "    \n",
    "vamos hasta el almuerzo"
   ]
  },
  {
   "attachments": {},
   "cell_type": "markdown",
   "metadata": {},
   "source": [
    "A la vuelta del almuerzo aprox 45 min"
   ]
  },
  {
   "attachments": {},
   "cell_type": "markdown",
   "metadata": {},
   "source": [
    "**Explicamos que es Jinja y que beneficios tiene** \n",
    "    \n",
    "Jinja es un motor de plantillas que permite mostrar en html los datos pasados como parametros desde la funcion render_template. \n",
    "\n",
    "La sintaxis basica de Jinja es: \n",
    "\n",
    "{{variable}} \n",
    "{% aqui podemos poner lineas de codigo %}\n",
    "\n",
    "Aclaraciones\n",
    "\n",
    "- Las lineas de codigo que podemos integrar con Jinja son limitadas\n",
    "- Se pueden hacer bucles y condicionales, se hacen de una manera muy parecida a python\n",
    "- En la documentacion podemos consultar que funciones estan disponibles y su sintaxis"
   ]
  },
  {
   "attachments": {},
   "cell_type": "markdown",
   "metadata": {},
   "source": [
    "Ahora, estos datos que escribimos estaticamente desde html, los pasamos a traves de Jinja como parametro al html."
   ]
  },
  {
   "cell_type": "markdown",
   "metadata": {},
   "source": [
    "1. Creamos una nueva ruta\n",
    "2. Creamos una nuevo archivo html \"tarjeta_python.html\""
   ]
  },
  {
   "cell_type": "code",
   "execution_count": null,
   "metadata": {},
   "outputs": [],
   "source": [
    "@app.route(\"/tarjeta\")\n",
    "def tarjeta():\n",
    "    nombre = 'Pablo'\n",
    "    especie = 'Backyardigan'\n",
    "    return render_template ('tarjeta_python.html', nombre = nombre , especie = especie)"
   ]
  },
  {
   "cell_type": "markdown",
   "metadata": {},
   "source": [
    "# Challenge 10min\n",
    "Reutilizar la tarjeta que hicieron en index.html y pasarle con Jinja2 los datos  "
   ]
  },
  {
   "attachments": {},
   "cell_type": "markdown",
   "metadata": {},
   "source": [
    "13:45\n",
    "# Teoria de CSS y Tailwind\n",
    "CSS significa «hojas de estilo en cascada». Es un lenguaje que maneja el diseño y presentación de las páginas web.\n",
    "\n",
    "\n",
    "Tailwind CSS es un framework CSS que permite un desarrollo ágil, basado en clases de utilidad que se pueden aplicar con facilidad en el código HTML y unos flujos de desarrollo que permiten optimizar mucho el peso del código CSS."
   ]
  },
  {
   "attachments": {},
   "cell_type": "markdown",
   "metadata": {},
   "source": [
    "***Para mirar en tailwind css:***\n",
    "\n",
    "- text color: cambiar el color del texto\n",
    "- font size: cambiar el tamanho de la fuente\n",
    "- background color: cambiar el color del fondo\n",
    "- width: ancho de una imagen o contenedor\n",
    "- height: alto de un contenedor\n",
    "- rounded radius: redondear los bordes de una imagen o contenedor"
   ]
  },
  {
   "attachments": {},
   "cell_type": "markdown",
   "metadata": {},
   "source": [
    "# Practica #3: Tailwind\n",
    "\n",
    "***Paso a paso***\n",
    "\n",
    "1. Abrir la documentacion de tailwind css y buscar la seccion de instalacion. \n",
    "2. Integrar tailwind a nuestro proyecto a traves de PLAY CDN.\n",
    "3. Aprovechamos la tarjeta generada en html para demostrar como agregar estilos. \n",
    "    - Mostrar como buscar las clases en la documentacion\n",
    "    - Leer con ellos los ejemplos de como ubicar la clase — ejemplos de la documentacion\n",
    "    - La idea es que aprendan a leer la documentacion de tailwind para integrar ellos solos\n",
    "4. Dar tiempo para que pongan estilos a sus tarjetas idealmente 1 hora minimo"
   ]
  },
  {
   "attachments": {},
   "cell_type": "markdown",
   "metadata": {},
   "source": [
    "15:30\n",
    "\n",
    "# Intro a las APIS y JSON\n",
    "API es Application Programming Interface.\n",
    "\n",
    "Serie de protocolos, procedimientos y herramientas que hacen que dos aplicaciones se comuniquen entre si.\n",
    "\n",
    "**Ejemplo de que es una api:** \n",
    "\n",
    "Conocemos varias aplicaciones que funcionan con mapas, como Bolt o Uber. Estas aplicaciones no desarrollan desde cero un mapa para funcionar, sino que aprovechan que google creo Google Maps. Utilizan la API de Google Maps para obtener informacion que ya existe en la web, ademas que les facilita a la hora de desarrollar, para no tener que desarrollar un mapa desde cero.\n",
    "\n",
    "De esta manera se logra una conexion entre dos aplicaciones, en donde una de ellas ofrece servicio o informaciones a la otra a traves de ciertos protocolos."
   ]
  },
  {
   "attachments": {},
   "cell_type": "markdown",
   "metadata": {},
   "source": [
    "# Intro a requests. \n",
    "El contenido que un cliente web manda al servidor siempre va almacenado en la Request. En Flask la Request se representa mediante el objeto request.  Para poder utilizar el objeto request deberemos de importarlo al principio de nuestro programa Flask.\n",
    "\n",
    "> from flask import request\n",
    "\n",
    "Una de las primeras cosas para las que podemos utilizar el objeto request es la de saber el tipo de petición que nos hace el cliente: GET, POST."
   ]
  },
  {
   "attachments": {},
   "cell_type": "markdown",
   "metadata": {},
   "source": [
    "### Explicación Get y POST\n",
    "\n",
    "La comunicación entre clientes y el servidores en Internet, se realizan a través del protocolo HTTP (Protocolo de Transferencia de Hipertexto).\n",
    "Un usuario envía una solicitud a un servidor, el cual da como respuesta una pagina web (un documento HTML). Los métodos utilizados para este tipo de comunicación son los parámetros GET y POST.\n",
    "\n",
    "La diferencia entre estos dos parámetros es que GET, envía la información haciéndola visible en la URL de la pagina web. Mientras que POST, envía la información ocultándola del usuario."
   ]
  },
  {
   "attachments": {},
   "cell_type": "markdown",
   "metadata": {},
   "source": [
    "# Practica #4: Hacer la primera consulta a la API de Rick and Morty. "
   ]
  },
  {
   "attachments": {},
   "cell_type": "markdown",
   "metadata": {},
   "source": [
    "Hacer la consulta a la API para consultar la informacion de un solo personaje. \n",
    "\n",
    "\n",
    "\n",
    "1. **Preparar el ambiente de trabajo para esta fase**\n",
    "    - Crear un archivo html con una tarjeta en donde podemos renderizar la info del personaje —> podemos reutilizar la tarjeta creada en la fase anterior\n",
    "    - Preparar una ruta para renderizar ese archivo \n",
    "\n",
    "**Crear una nueva ruta para el proyecto**"
   ]
  },
  {
   "cell_type": "code",
   "execution_count": null,
   "metadata": {},
   "outputs": [],
   "source": [
    " @app.route(\"/personaje\")\n",
    "def personaje():\n",
    "    # request de un solo personaje\n",
    "    return render_template('personaje.html')"
   ]
  },
  {
   "attachments": {},
   "cell_type": "markdown",
   "metadata": {},
   "source": [
    "2. **Mostrar la API de Rick and Morty**\n",
    "    - Analizar la estructura en la que esta almacenada la informacion de cada personaje (en diccionarios) y la lista de personajes."
   ]
  },
  {
   "cell_type": "code",
   "execution_count": null,
   "metadata": {},
   "outputs": [],
   "source": [
    "# Crear una nueva ruta para el proyecto\n",
    "@app.route(\"/personaje\")\n",
    "def personaje():\n",
    "    # Definimos la url a la que se hace el pedido \n",
    "    url = 'https://rickandmortyapi.com/api/character/4'\n",
    "    \n",
    "    # Hacemos el pedido a la API -- nos devuelve un diccionario\n",
    "    respuesta_api = requests.get(url).json()\n",
    "\n",
    "    # Creamos variables a traves de acceder la respuesta\n",
    "    nombre = respuesta_api['name']\n",
    "    estado = respuesta_api[\"status\"]\n",
    "    imagen = respuesta_api['image']\n",
    "\n",
    "    # Enviamos los datos al html\n",
    "    return render_template('consultar_personaje.html', nombre=nombre, estado=estado, imagen=imagen)"
   ]
  },
  {
   "attachments": {},
   "cell_type": "markdown",
   "metadata": {},
   "source": [
    "# Practica #5: Consultar la lista de personajes en python y desplegar en html con Jinja "
   ]
  },
  {
   "attachments": {},
   "cell_type": "markdown",
   "metadata": {},
   "source": [
    "# \n",
    "\n",
    "1. **Preparar el ambiente de trabajo para esta fase**\n",
    "    - Crear un archivo html nuevo\n",
    "        - Crear la estructura con !\n",
    "        - Integrar tailwind\n",
    "\n",
    "        \n",
    "Preparar una ruta para renderizar ese archivo "
   ]
  },
  {
   "cell_type": "code",
   "execution_count": 7,
   "metadata": {},
   "outputs": [],
   "source": [
    "# Crear una nueva ruta para el proyecto\n",
    "@app.route(\"/rick_and_morty\")\n",
    "def rick_and_morty():\n",
    "    return render_template(\"rick_and_morty.html\")"
   ]
  },
  {
   "attachments": {},
   "cell_type": "markdown",
   "metadata": {},
   "source": [
    "2. **Realizamos la consulta a la API para obtener la lista de los personajes** "
   ]
  },
  {
   "cell_type": "code",
   "execution_count": null,
   "metadata": {},
   "outputs": [],
   "source": [
    "\n",
    "    @app.route(\"/proyecto_final\")\n",
    "    def proyecto_final(): \n",
    "        # definir la url para la consulta \n",
    "        url = 'https://rickandmortyapi.com/api/character/'\n",
    "    \n",
    "        # consultar a la api con el link de la info que enecesitamos \n",
    "        respuesta = requests.get(url).json()\n",
    "    \n",
    "        # acceder a la lista de personajes \n",
    "        lista_de_personajes = respuesta ['results']\n",
    "        \n",
    "        return render_template('proyecto_final.html', lista_de_personajes=lista_de_personajes)"
   ]
  },
  {
   "attachments": {},
   "cell_type": "markdown",
   "metadata": {},
   "source": [
    "3. **Conceptos a recordar antes de la siguiente fase**\n",
    "    - Si tenemos una lista en python, como podemos recorrerla?\n",
    "    - Como accedemos a los datos de un diccionario?\n",
    "    - La estructura en la que esta almacenada la lista de personajes es una lista de diccionarios"
   ]
  },
  {
   "attachments": {},
   "cell_type": "markdown",
   "metadata": {},
   "source": [
    "4. Entonces, teniendo una lista de personajes, vamos a generar una tarjeta por personaje. \n",
    "\n",
    "    - Para generar una tarjeta por cada personaje, recorreremos la lista de personajes con un ciclo for, y generamos una tarjeta por cada iteracion.\n",
    "\n",
    "    - La sintaxis del ciclo for en Jinja es "
   ]
  },
  {
   "cell_type": "code",
   "execution_count": null,
   "metadata": {
    "vscode": {
     "languageId": "html"
    }
   },
   "outputs": [],
   "source": [
    "{% for personaje in personajes %}\n",
    "... # codigo html\n",
    "{% endfor %}"
   ]
  },
  {
   "attachments": {},
   "cell_type": "markdown",
   "metadata": {},
   "source": [
    "    - Para crear una tarjeta por cada iteracion dentro del html, agregamos la tarjeta que creamos dentro del ciclo for y modificamos las variables anteriores para acceder a los datos del diccionario de esa posicion de la lista. "
   ]
  },
  {
   "cell_type": "code",
   "execution_count": null,
   "metadata": {
    "vscode": {
     "languageId": "html"
    }
   },
   "outputs": [],
   "source": [
    "{%  for personaje in lista_de_personajes:  %}\n",
    "    <!--  TARJETA DE PERSONAJE -->\n",
    "    <div>\n",
    "        <h1> {{personaje['name']}} </h1> \n",
    "        <h2> Status: {{personaje['status']}} </h2>\n",
    "        <img src=\"{{personaje['image']}}\" alt=\"{{personaje['name']}}\">\n",
    "    </div>\n",
    "{% endfor %}"
   ]
  },
  {
   "attachments": {},
   "cell_type": "markdown",
   "metadata": {},
   "source": [
    "Mejoramos las tarjetas con clases de Tailwind "
   ]
  }
 ],
 "metadata": {
  "kernelspec": {
   "display_name": "Python 3",
   "language": "python",
   "name": "python3"
  },
  "language_info": {
   "codemirror_mode": {
    "name": "ipython",
    "version": 3
   },
   "file_extension": ".py",
   "mimetype": "text/x-python",
   "name": "python",
   "nbconvert_exporter": "python",
   "pygments_lexer": "ipython3",
   "version": "3.10.12"
  },
  "orig_nbformat": 4
 },
 "nbformat": 4,
 "nbformat_minor": 2
}
